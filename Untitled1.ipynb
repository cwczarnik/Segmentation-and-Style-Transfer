{
 "cells": [
  {
   "cell_type": "code",
   "execution_count": 8,
   "metadata": {
    "collapsed": false
   },
   "outputs": [],
   "source": [
    "def make_board():\n",
    "    board = []\n",
    "    #Generate rows with length of 3\n",
    "    for row in range(11):\n",
    "      # Appen a blank list to each row cell\n",
    "      board.append([])\n",
    "      for column in range(11):\n",
    "        # Assign x to each row\n",
    "        board[row].append('x')\n",
    "\n",
    "    # Function will print board like an actual board\n",
    "    def print_board(board):\n",
    "      for row in board:\n",
    "        print(\" \".join(row))\n",
    "    print_board(board)"
   ]
  },
  {
   "cell_type": "code",
   "execution_count": 9,
   "metadata": {
    "collapsed": true
   },
   "outputs": [],
   "source": [
    "from IPython import display\n",
    "display.clear_output(wait=True)"
   ]
  },
  {
   "cell_type": "code",
   "execution_count": null,
   "metadata": {
    "collapsed": true
   },
   "outputs": [],
   "source": []
  }
 ],
 "metadata": {
  "kernelspec": {
   "display_name": "Python 3",
   "language": "python",
   "name": "python3"
  }
 },
 "nbformat": 4,
 "nbformat_minor": 2
}
